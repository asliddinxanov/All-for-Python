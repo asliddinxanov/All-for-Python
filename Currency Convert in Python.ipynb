{
 "cells": [
  {
   "cell_type": "code",
   "execution_count": 4,
   "id": "d03dae74",
   "metadata": {},
   "outputs": [
    {
     "name": "stdout",
     "output_type": "stream",
     "text": [
      "Collecting CurrencyConverter\n",
      "  Downloading CurrencyConverter-0.17.3-py3-none-any.whl (560 kB)\n",
      "\u001b[K     |████████████████████████████████| 560 kB 1.2 MB/s eta 0:00:01\n",
      "\u001b[?25hInstalling collected packages: CurrencyConverter\n",
      "Successfully installed CurrencyConverter-0.17.3\n",
      "Note: you may need to restart the kernel to use updated packages.\n"
     ]
    }
   ],
   "source": [
    "pip install CurrencyConverter"
   ]
  },
  {
   "cell_type": "code",
   "execution_count": 11,
   "id": "cb44c72b",
   "metadata": {},
   "outputs": [],
   "source": [
    "from currency_converter import CurrencyConverter\n",
    "c = CurrencyConverter()"
   ]
  },
  {
   "cell_type": "code",
   "execution_count": 15,
   "id": "37ce08ff",
   "metadata": {},
   "outputs": [
    {
     "name": "stdout",
     "output_type": "stream",
     "text": [
      "Enter the amount100\n",
      "From Currency : usd\n",
      "To Currencyeur\n",
      "EUR : 100\n",
      "USD >>> EUR\n",
      "97.33307377846991\n"
     ]
    }
   ],
   "source": [
    "amount = int(input(\"Enter the amount\"))\n",
    "from_c = input(\"From Currency : \").upper()\n",
    "to_c = input(\"To Currency\").upper()\n",
    "\n",
    "print(to_c,\":\", amount)\n",
    "print(from_c, \">>>\", to_c)\n",
    "result = c.convert(amount, from_c, to_c)\n",
    "print(result)"
   ]
  },
  {
   "cell_type": "code",
   "execution_count": null,
   "id": "f031ff73",
   "metadata": {},
   "outputs": [],
   "source": []
  }
 ],
 "metadata": {
  "kernelspec": {
   "display_name": "Python 3 (ipykernel)",
   "language": "python",
   "name": "python3"
  },
  "language_info": {
   "codemirror_mode": {
    "name": "ipython",
    "version": 3
   },
   "file_extension": ".py",
   "mimetype": "text/x-python",
   "name": "python",
   "nbconvert_exporter": "python",
   "pygments_lexer": "ipython3",
   "version": "3.9.7"
  }
 },
 "nbformat": 4,
 "nbformat_minor": 5
}
