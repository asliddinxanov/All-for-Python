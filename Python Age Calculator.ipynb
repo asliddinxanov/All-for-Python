{
 "cells": [
  {
   "cell_type": "code",
   "execution_count": 1,
   "id": "f759041b",
   "metadata": {},
   "outputs": [],
   "source": [
    "import datetime"
   ]
  },
  {
   "cell_type": "code",
   "execution_count": 6,
   "id": "040dc6bd",
   "metadata": {},
   "outputs": [],
   "source": [
    "def age_calc(y,m,d):\n",
    "    today = datetime.datetime.now().date()\n",
    "    cal = datetime.date(y,m,d)\n",
    "    age = int((today-cal).days / 365)\n",
    "    print(age)"
   ]
  },
  {
   "cell_type": "code",
   "execution_count": 7,
   "id": "4467dbde",
   "metadata": {},
   "outputs": [
    {
     "name": "stdout",
     "output_type": "stream",
     "text": [
      "31\n"
     ]
    }
   ],
   "source": [
    "age_calc(1991,7,18)"
   ]
  }
 ],
 "metadata": {
  "kernelspec": {
   "display_name": "Python 3 (ipykernel)",
   "language": "python",
   "name": "python3"
  },
  "language_info": {
   "codemirror_mode": {
    "name": "ipython",
    "version": 3
   },
   "file_extension": ".py",
   "mimetype": "text/x-python",
   "name": "python",
   "nbconvert_exporter": "python",
   "pygments_lexer": "ipython3",
   "version": "3.9.7"
  }
 },
 "nbformat": 4,
 "nbformat_minor": 5
}
