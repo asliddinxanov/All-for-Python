{
 "cells": [
  {
   "cell_type": "code",
   "execution_count": 1,
   "id": "363b2dab",
   "metadata": {},
   "outputs": [],
   "source": [
    "import collections"
   ]
  },
  {
   "cell_type": "code",
   "execution_count": 7,
   "id": "3cb16ac4",
   "metadata": {},
   "outputs": [
    {
     "data": {
      "text/plain": [
       "Counter({1: 2, 2: 2, 3: 4, 4: 3, 5: 1, 6: 1, 7: 1, 8: 1})"
      ]
     },
     "execution_count": 7,
     "metadata": {},
     "output_type": "execute_result"
    }
   ],
   "source": [
    "# integer\n",
    "counter = collections.Counter([1,1,2,2,3,3,3,3,4,4,4,5,6,7,8])\n",
    "counter"
   ]
  },
  {
   "cell_type": "code",
   "execution_count": 8,
   "id": "35f668f4",
   "metadata": {},
   "outputs": [
    {
     "data": {
      "text/plain": [
       "[(3, 4)]"
      ]
     },
     "execution_count": 8,
     "metadata": {},
     "output_type": "execute_result"
    }
   ],
   "source": [
    "counter.most_common(1) #1 marta takrorlangan son"
   ]
  },
  {
   "cell_type": "code",
   "execution_count": 10,
   "id": "8fcbc423",
   "metadata": {},
   "outputs": [
    {
     "data": {
      "text/plain": [
       "[(3, 4), (4, 3)]"
      ]
     },
     "execution_count": 10,
     "metadata": {},
     "output_type": "execute_result"
    }
   ],
   "source": [
    "counter.most_common(2) #2 marta t/s"
   ]
  },
  {
   "cell_type": "code",
   "execution_count": 21,
   "id": "b968b37f",
   "metadata": {},
   "outputs": [
    {
     "data": {
      "text/plain": [
       "[(3, 4), (4, 3), (1, 2), (2, 2), (5, 1), (6, 1), (7, 1), (8, 1)]"
      ]
     },
     "execution_count": 21,
     "metadata": {},
     "output_type": "execute_result"
    }
   ],
   "source": [
    "counter.most_common(8) #8 marta t/s"
   ]
  },
  {
   "cell_type": "code",
   "execution_count": 35,
   "id": "26a8d991",
   "metadata": {},
   "outputs": [
    {
     "data": {
      "text/plain": [
       "Counter({'a': 2, 'b': 4, 'c': 6})"
      ]
     },
     "execution_count": 35,
     "metadata": {},
     "output_type": "execute_result"
    }
   ],
   "source": [
    "#string\n",
    "a = (['a','a','b','b','b','b','c','c','c','c','c','c',])\n",
    "c = collections.Counter(a)\n",
    "c"
   ]
  },
  {
   "cell_type": "code",
   "execution_count": 38,
   "id": "28d5dbc6",
   "metadata": {},
   "outputs": [
    {
     "data": {
      "text/plain": [
       "2"
      ]
     },
     "execution_count": 38,
     "metadata": {},
     "output_type": "execute_result"
    }
   ],
   "source": [
    "c['a'] #a = 2 "
   ]
  },
  {
   "cell_type": "code",
   "execution_count": 39,
   "id": "0eb7bc78",
   "metadata": {},
   "outputs": [
    {
     "data": {
      "text/plain": [
       "4"
      ]
     },
     "execution_count": 39,
     "metadata": {},
     "output_type": "execute_result"
    }
   ],
   "source": [
    "c['b'] #b = 4"
   ]
  },
  {
   "cell_type": "code",
   "execution_count": 40,
   "id": "7eaa182f",
   "metadata": {},
   "outputs": [
    {
     "data": {
      "text/plain": [
       "6"
      ]
     },
     "execution_count": 40,
     "metadata": {},
     "output_type": "execute_result"
    }
   ],
   "source": [
    "c['c'] #c = 6"
   ]
  }
 ],
 "metadata": {
  "kernelspec": {
   "display_name": "Python 3 (ipykernel)",
   "language": "python",
   "name": "python3"
  },
  "language_info": {
   "codemirror_mode": {
    "name": "ipython",
    "version": 3
   },
   "file_extension": ".py",
   "mimetype": "text/x-python",
   "name": "python",
   "nbconvert_exporter": "python",
   "pygments_lexer": "ipython3",
   "version": "3.9.7"
  }
 },
 "nbformat": 4,
 "nbformat_minor": 5
}
