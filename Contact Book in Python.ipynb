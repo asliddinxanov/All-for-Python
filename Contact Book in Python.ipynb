{
 "cells": [
  {
   "cell_type": "code",
   "execution_count": 1,
   "id": "85d30389",
   "metadata": {},
   "outputs": [
    {
     "name": "stdout",
     "output_type": "stream",
     "text": [
      "How many contacts do you want to save : 2\n"
     ]
    }
   ],
   "source": [
    "names = []\n",
    "phone_nums = []\n",
    "\n",
    "num = int(input(\"How many contacts do you want to save : \"))"
   ]
  },
  {
   "cell_type": "code",
   "execution_count": 7,
   "id": "2c202f17",
   "metadata": {},
   "outputs": [
    {
     "name": "stdout",
     "output_type": "stream",
     "text": [
      "Name : Xanov\n",
      "Phone Number : 7272\n",
      "Name : Bob\n",
      "Phone Number : 2323\n",
      "\n",
      "My Contacts ...\n",
      "\n",
      "Names\tPhones\n",
      "Xanov\t7272\n",
      "Bob\t2323\n"
     ]
    }
   ],
   "source": [
    "for i in  range(num):\n",
    "    name = input(\"Name : \")\n",
    "    ph_number = input(\"Phone Number : \")\n",
    "    names.append(name)\n",
    "    phone_nums.append(ph_number)\n",
    "    \n",
    "print(\"\\nMy Contacts ...\\n\")\n",
    "print(\"Names\\tPhones\")\n",
    "for i in range(num):\n",
    "    print(\"{}\\t{}\".format(names[i], phone_nums[i]))"
   ]
  },
  {
   "cell_type": "code",
   "execution_count": 11,
   "id": "0dee9f72",
   "metadata": {},
   "outputs": [
    {
     "name": "stdout",
     "output_type": "stream",
     "text": [
      "Enter search contact : Bob\n",
      "Result ... \n",
      "name : Bob\n",
      "Phone Number : 2323\n"
     ]
    }
   ],
   "source": [
    "#for search number in contact\n",
    "search_cont = input(\"Enter search contact : \")\n",
    "print(\"Result ... \")\n",
    "\n",
    "if search_cont in names:\n",
    "    index = names.index(search_cont)\n",
    "    phone_num = phone_nums[index]\n",
    "    print(\"name : {}\\nPhone Number : {}\".format(search_cont, phone_num))\n",
    "else:\n",
    "    print(\"Not fond Contact\")"
   ]
  }
 ],
 "metadata": {
  "kernelspec": {
   "display_name": "Python 3 (ipykernel)",
   "language": "python",
   "name": "python3"
  },
  "language_info": {
   "codemirror_mode": {
    "name": "ipython",
    "version": 3
   },
   "file_extension": ".py",
   "mimetype": "text/x-python",
   "name": "python",
   "nbconvert_exporter": "python",
   "pygments_lexer": "ipython3",
   "version": "3.9.7"
  }
 },
 "nbformat": 4,
 "nbformat_minor": 5
}
