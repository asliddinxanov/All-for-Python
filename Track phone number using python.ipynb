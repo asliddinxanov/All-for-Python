{
 "cells": [
  {
   "cell_type": "code",
   "execution_count": 4,
   "id": "d5141bd2",
   "metadata": {},
   "outputs": [
    {
     "name": "stdout",
     "output_type": "stream",
     "text": [
      "Collecting phonenumbers\n",
      "  Downloading phonenumbers-8.12.57-py2.py3-none-any.whl (2.6 MB)\n",
      "\u001b[K     |████████████████████████████████| 2.6 MB 3.5 MB/s eta 0:00:01\n",
      "\u001b[?25hInstalling collected packages: phonenumbers\n",
      "Successfully installed phonenumbers-8.12.57\n",
      "Note: you may need to restart the kernel to use updated packages.\n"
     ]
    }
   ],
   "source": [
    "pip install phonenumbers #install phonenumbers"
   ]
  },
  {
   "cell_type": "code",
   "execution_count": 26,
   "id": "c952370f",
   "metadata": {},
   "outputs": [
    {
     "name": "stdout",
     "output_type": "stream",
     "text": [
      "Enter the Phone Number: +819012345678\n",
      "Japan\n"
     ]
    }
   ],
   "source": [
    "import phonenumbers\n",
    "from phonenumbers import geocoder\n",
    "a = input(\"Enter the Phone Number: \") #Enter Phone number\n",
    "phone_n = phonenumbers.parse(a)\n",
    "print(geocoder.description_for_number(phone_n,'en'))#description"
   ]
  },
  {
   "cell_type": "code",
   "execution_count": null,
   "id": "c734a80d",
   "metadata": {},
   "outputs": [],
   "source": []
  }
 ],
 "metadata": {
  "kernelspec": {
   "display_name": "Python 3 (ipykernel)",
   "language": "python",
   "name": "python3"
  },
  "language_info": {
   "codemirror_mode": {
    "name": "ipython",
    "version": 3
   },
   "file_extension": ".py",
   "mimetype": "text/x-python",
   "name": "python",
   "nbconvert_exporter": "python",
   "pygments_lexer": "ipython3",
   "version": "3.9.7"
  }
 },
 "nbformat": 4,
 "nbformat_minor": 5
}
