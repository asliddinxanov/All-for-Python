{
 "cells": [
  {
   "cell_type": "code",
   "execution_count": 6,
   "id": "0b3578db",
   "metadata": {},
   "outputs": [
    {
     "name": "stdout",
     "output_type": "stream",
     "text": [
      "Collecting geopy\n",
      "  Downloading geopy-2.2.0-py3-none-any.whl (118 kB)\n",
      "\u001b[K     |████████████████████████████████| 118 kB 2.9 MB/s eta 0:00:01\n",
      "\u001b[?25hCollecting geographiclib<2,>=1.49\n",
      "  Downloading geographiclib-1.52-py3-none-any.whl (38 kB)\n",
      "Installing collected packages: geographiclib, geopy\n",
      "Successfully installed geographiclib-1.52 geopy-2.2.0\n",
      "Note: you may need to restart the kernel to use updated packages.\n"
     ]
    }
   ],
   "source": [
    "pip install geopy"
   ]
  },
  {
   "cell_type": "code",
   "execution_count": 8,
   "id": "afd6e4b9",
   "metadata": {},
   "outputs": [],
   "source": [
    "from geopy.geocoders import Nominatim"
   ]
  },
  {
   "cell_type": "code",
   "execution_count": 14,
   "id": "60754019",
   "metadata": {},
   "outputs": [],
   "source": [
    "# using Nominatim Api\n",
    "geolocator = Nominatim(user_agent=\"geoapiExercises\") "
   ]
  },
  {
   "cell_type": "code",
   "execution_count": 35,
   "id": "d3de97d8",
   "metadata": {},
   "outputs": [
    {
     "name": "stdout",
     "output_type": "stream",
     "text": [
      "Enter the zipcode: 113-8645\n"
     ]
    }
   ],
   "source": [
    "a = input(\"Enter the zipcode: \") # for input zipcode"
   ]
  },
  {
   "cell_type": "code",
   "execution_count": 36,
   "id": "953e0440",
   "metadata": {},
   "outputs": [],
   "source": [
    "zip_c = a"
   ]
  },
  {
   "cell_type": "code",
   "execution_count": 37,
   "id": "9875cbf8",
   "metadata": {},
   "outputs": [],
   "source": [
    "location = geolocator.geocode(zip_c)"
   ]
  },
  {
   "cell_type": "code",
   "execution_count": 38,
   "id": "f2ee0c59",
   "metadata": {},
   "outputs": [
    {
     "name": "stdout",
     "output_type": "stream",
     "text": [
      "ZipCode:  113-8645\n",
      "Details of the ZipCode: \n",
      "8645, Lake Road, Hicksville Township, Defiance County, Ohio, 43526, United States\n"
     ]
    }
   ],
   "source": [
    "print(\"ZipCode: \",zip_c)\n",
    "print(\"Details of the ZipCode: \")\n",
    "print(location)"
   ]
  }
 ],
 "metadata": {
  "kernelspec": {
   "display_name": "Python 3 (ipykernel)",
   "language": "python",
   "name": "python3"
  },
  "language_info": {
   "codemirror_mode": {
    "name": "ipython",
    "version": 3
   },
   "file_extension": ".py",
   "mimetype": "text/x-python",
   "name": "python",
   "nbconvert_exporter": "python",
   "pygments_lexer": "ipython3",
   "version": "3.9.7"
  }
 },
 "nbformat": 4,
 "nbformat_minor": 5
}
