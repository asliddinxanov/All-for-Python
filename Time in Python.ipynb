{
 "cells": [
  {
   "cell_type": "code",
   "execution_count": 10,
   "id": "c51e1ada",
   "metadata": {},
   "outputs": [],
   "source": [
    "import time as t"
   ]
  },
  {
   "cell_type": "code",
   "execution_count": 11,
   "id": "3bb6a327",
   "metadata": {},
   "outputs": [
    {
     "data": {
      "text/plain": [
       "1666920692.6903338"
      ]
     },
     "execution_count": 11,
     "metadata": {},
     "output_type": "execute_result"
    }
   ],
   "source": [
    "now = t.time()\n",
    "now"
   ]
  },
  {
   "cell_type": "code",
   "execution_count": 13,
   "id": "1496567c",
   "metadata": {},
   "outputs": [
    {
     "data": {
      "text/plain": [
       "time.struct_time(tm_year=2022, tm_mon=10, tm_mday=28, tm_hour=1, tm_min=31, tm_sec=32, tm_wday=4, tm_yday=301, tm_isdst=0)"
      ]
     },
     "execution_count": 13,
     "metadata": {},
     "output_type": "execute_result"
    }
   ],
   "source": [
    "gmt = t.gmtime(now) #gmt haqida malumotla\n",
    "gmt"
   ]
  },
  {
   "cell_type": "code",
   "execution_count": 15,
   "id": "d03ac0d1",
   "metadata": {},
   "outputs": [
    {
     "data": {
      "text/plain": [
       "'The time is: 22-10-28'"
      ]
     },
     "execution_count": 15,
     "metadata": {},
     "output_type": "execute_result"
    }
   ],
   "source": [
    "t.strftime(\"The time is: %y-%m-%d\",gmt) #year-month-day"
   ]
  },
  {
   "cell_type": "code",
   "execution_count": 19,
   "id": "da7e9245",
   "metadata": {},
   "outputs": [
    {
     "data": {
      "text/plain": [
       "'The time is: Oct 10, 22-year'"
      ]
     },
     "execution_count": 19,
     "metadata": {},
     "output_type": "execute_result"
    }
   ],
   "source": [
    "t.strftime(\"The time is: %b %m, %y\",gmt) #month(text) day, year"
   ]
  },
  {
   "cell_type": "code",
   "execution_count": 24,
   "id": "6760ce87",
   "metadata": {},
   "outputs": [
    {
     "data": {
      "text/plain": [
       "'The time is: 01:31:32'"
      ]
     },
     "execution_count": 24,
     "metadata": {},
     "output_type": "execute_result"
    }
   ],
   "source": [
    "t.strftime(\"The time is: %H:%M:%S\",gmt)"
   ]
  },
  {
   "cell_type": "code",
   "execution_count": 27,
   "id": "9d5edddc",
   "metadata": {},
   "outputs": [
    {
     "data": {
      "text/plain": [
       "'It is now 01:31AM'"
      ]
     },
     "execution_count": 27,
     "metadata": {},
     "output_type": "execute_result"
    }
   ],
   "source": [
    "t.strftime(\"It is now %I:%M%p\",gmt)"
   ]
  },
  {
   "cell_type": "code",
   "execution_count": 28,
   "id": "c2cf28c8",
   "metadata": {},
   "outputs": [
    {
     "data": {
      "text/plain": [
       "'The local time format is: 01:31:32'"
      ]
     },
     "execution_count": 28,
     "metadata": {},
     "output_type": "execute_result"
    }
   ],
   "source": [
    "t.strftime(\"The local time format is: %X\",gmt)"
   ]
  }
 ],
 "metadata": {
  "kernelspec": {
   "display_name": "Python 3 (ipykernel)",
   "language": "python",
   "name": "python3"
  },
  "language_info": {
   "codemirror_mode": {
    "name": "ipython",
    "version": 3
   },
   "file_extension": ".py",
   "mimetype": "text/x-python",
   "name": "python",
   "nbconvert_exporter": "python",
   "pygments_lexer": "ipython3",
   "version": "3.9.7"
  }
 },
 "nbformat": 4,
 "nbformat_minor": 5
}
