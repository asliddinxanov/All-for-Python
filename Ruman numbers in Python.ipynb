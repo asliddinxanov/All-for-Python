{
 "cells": [
  {
   "cell_type": "code",
   "execution_count": 21,
   "id": "6fee7ede",
   "metadata": {},
   "outputs": [],
   "source": [
    "#create key for roman num\n",
    "keys = {'I': 1, 'V': 5, 'X': 10, 'L': 50,\n",
    "       'C': 100, 'D': 500, 'M': 1000}"
   ]
  },
  {
   "cell_type": "code",
   "execution_count": 24,
   "id": "fe372a87",
   "metadata": {},
   "outputs": [],
   "source": [
    "#creat function\n",
    "def RomanNumeral(rom_numeral):\n",
    "    sum = 0\n",
    "    for i in range(len(rom_numeral)-1):    \n",
    "        left = rom_numeral[i]\n",
    "        right = rom_numeral[i + 1]\n",
    "        if keys[left] < keys[right]:\n",
    "            sum -= keys[left]\n",
    "        else:\n",
    "            sum += keys[left]\n",
    "    sum += keys[rom_numeral[-1]]\n",
    "    return sum"
   ]
  },
  {
   "cell_type": "code",
   "execution_count": 25,
   "id": "cd0188ad",
   "metadata": {},
   "outputs": [
    {
     "name": "stdout",
     "output_type": "stream",
     "text": [
      "Enter Roman Number >> XIII\n"
     ]
    },
    {
     "data": {
      "text/plain": [
       "13"
      ]
     },
     "execution_count": 25,
     "metadata": {},
     "output_type": "execute_result"
    }
   ],
   "source": [
    "rom_input = input('Enter Roman Number >> ')\n",
    "RomanNumeral(rom_input.upper())"
   ]
  }
 ],
 "metadata": {
  "kernelspec": {
   "display_name": "Python 3 (ipykernel)",
   "language": "python",
   "name": "python3"
  },
  "language_info": {
   "codemirror_mode": {
    "name": "ipython",
    "version": 3
   },
   "file_extension": ".py",
   "mimetype": "text/x-python",
   "name": "python",
   "nbconvert_exporter": "python",
   "pygments_lexer": "ipython3",
   "version": "3.9.7"
  }
 },
 "nbformat": 4,
 "nbformat_minor": 5
}
