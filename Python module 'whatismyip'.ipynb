{
 "cells": [
  {
   "cell_type": "code",
   "execution_count": 1,
   "id": "88b619d3",
   "metadata": {},
   "outputs": [
    {
     "name": "stdout",
     "output_type": "stream",
     "text": [
      "Requirement already satisfied: whatismyip in /Users/user/opt/anaconda3/lib/python3.9/site-packages (2022.7.10)\n",
      "Note: you may need to restart the kernel to use updated packages.\n"
     ]
    }
   ],
   "source": [
    "pip install whatismyip"
   ]
  },
  {
   "cell_type": "code",
   "execution_count": 2,
   "id": "4888214c",
   "metadata": {},
   "outputs": [],
   "source": [
    "import whatismyip"
   ]
  },
  {
   "cell_type": "code",
   "execution_count": 3,
   "id": "d2515229",
   "metadata": {},
   "outputs": [
    {
     "data": {
      "text/plain": [
       "True"
      ]
     },
     "execution_count": 3,
     "metadata": {},
     "output_type": "execute_result"
    }
   ],
   "source": [
    "whatismyip.amionline()"
   ]
  },
  {
   "cell_type": "code",
   "execution_count": 4,
   "id": "d94b4a14",
   "metadata": {},
   "outputs": [
    {
     "data": {
      "text/plain": [
       "'220.108.91.100'"
      ]
     },
     "execution_count": 4,
     "metadata": {},
     "output_type": "execute_result"
    }
   ],
   "source": [
    "whatismyip.whatismyip()"
   ]
  },
  {
   "cell_type": "code",
   "execution_count": 5,
   "id": "bf33afb3",
   "metadata": {},
   "outputs": [
    {
     "data": {
      "text/plain": [
       "'220.108.91.100'"
      ]
     },
     "execution_count": 5,
     "metadata": {},
     "output_type": "execute_result"
    }
   ],
   "source": [
    "whatismyip.whatismyipv4()"
   ]
  },
  {
   "cell_type": "code",
   "execution_count": 6,
   "id": "58f32cfa",
   "metadata": {},
   "outputs": [],
   "source": [
    "whatismyip.whatismyipv6()"
   ]
  }
 ],
 "metadata": {
  "kernelspec": {
   "display_name": "Python 3 (ipykernel)",
   "language": "python",
   "name": "python3"
  },
  "language_info": {
   "codemirror_mode": {
    "name": "ipython",
    "version": 3
   },
   "file_extension": ".py",
   "mimetype": "text/x-python",
   "name": "python",
   "nbconvert_exporter": "python",
   "pygments_lexer": "ipython3",
   "version": "3.9.7"
  }
 },
 "nbformat": 4,
 "nbformat_minor": 5
}
