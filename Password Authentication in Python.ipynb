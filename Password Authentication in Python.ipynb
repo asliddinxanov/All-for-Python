{
 "cells": [
  {
   "cell_type": "code",
   "execution_count": 15,
   "id": "8f8ac1d5",
   "metadata": {},
   "outputs": [],
   "source": [
    "import getpass"
   ]
  },
  {
   "cell_type": "code",
   "execution_count": 16,
   "id": "d4be10a0",
   "metadata": {},
   "outputs": [
    {
     "name": "stdout",
     "output_type": "stream",
     "text": [
      "Enter Username >> asliddinxanov\n"
     ]
    }
   ],
   "source": [
    "username_data = {\"qwerty\": \"123456\", \"asliddinxanov\": \"121212\"}\n",
    "username = input(\"Enter Username >> \")"
   ]
  },
  {
   "cell_type": "code",
   "execution_count": 17,
   "id": "79ab6160",
   "metadata": {},
   "outputs": [
    {
     "name": "stdout",
     "output_type": "stream",
     "text": [
      "Enter your Password >> ········\n"
     ]
    }
   ],
   "source": [
    "password = getpass.getpass(\"Enter your Password >> \")"
   ]
  },
  {
   "cell_type": "code",
   "execution_count": 18,
   "id": "28899fc6",
   "metadata": {},
   "outputs": [
    {
     "name": "stdout",
     "output_type": "stream",
     "text": [
      "Enter your Password again >> ········\n",
      "Enter your Password again >> ········\n",
      "Enter your Password again >> ········\n",
      "Accepted\n"
     ]
    }
   ],
   "source": [
    "for i in username_data.keys():\n",
    "    if username == i:\n",
    "        while password != username_data.get(i):\n",
    "            password = getpass.getpass(\"Enter your Password again >> \")\n",
    "        break\n",
    "print(\"Accepted\")"
   ]
  },
  {
   "cell_type": "code",
   "execution_count": null,
   "id": "4d1e79ff",
   "metadata": {},
   "outputs": [],
   "source": []
  }
 ],
 "metadata": {
  "kernelspec": {
   "display_name": "Python 3 (ipykernel)",
   "language": "python",
   "name": "python3"
  },
  "language_info": {
   "codemirror_mode": {
    "name": "ipython",
    "version": 3
   },
   "file_extension": ".py",
   "mimetype": "text/x-python",
   "name": "python",
   "nbconvert_exporter": "python",
   "pygments_lexer": "ipython3",
   "version": "3.9.7"
  }
 },
 "nbformat": 4,
 "nbformat_minor": 5
}
