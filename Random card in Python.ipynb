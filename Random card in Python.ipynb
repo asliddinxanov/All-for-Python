{
 "cells": [
  {
   "cell_type": "code",
   "execution_count": 6,
   "id": "b7ab58ca",
   "metadata": {},
   "outputs": [],
   "source": [
    "import random"
   ]
  },
  {
   "cell_type": "code",
   "execution_count": 7,
   "id": "c8af1309",
   "metadata": {},
   "outputs": [],
   "source": [
    "cards = [\"Diamond\", \"Clubs\", \"Hearts\", \"Spades\"]\n",
    "ranks = [1,2,3,4,5,6,7,8,9,10,\n",
    "       \"Jack\", \"Queen\", \"King\", \"Ace\"]"
   ]
  },
  {
   "cell_type": "code",
   "execution_count": 8,
   "id": "cf06e0a5",
   "metadata": {},
   "outputs": [
    {
     "name": "stdout",
     "output_type": "stream",
     "text": [
      "The [1, 2, 3, 4, 5, 6, 7, 8, 9, 10, 'Jack', 'Queen', 'King', 'Ace'] of ['Hearts']\n"
     ]
    }
   ],
   "source": [
    "def pick_card():\n",
    "    card = random.choices(cards)\n",
    "    rand = random.choices(ranks)\n",
    "    return(f\"The {rank} of {card}\")\n",
    "\n",
    "print(pick_card())"
   ]
  }
 ],
 "metadata": {
  "kernelspec": {
   "display_name": "Python 3 (ipykernel)",
   "language": "python",
   "name": "python3"
  },
  "language_info": {
   "codemirror_mode": {
    "name": "ipython",
    "version": 3
   },
   "file_extension": ".py",
   "mimetype": "text/x-python",
   "name": "python",
   "nbconvert_exporter": "python",
   "pygments_lexer": "ipython3",
   "version": "3.9.7"
  }
 },
 "nbformat": 4,
 "nbformat_minor": 5
}
